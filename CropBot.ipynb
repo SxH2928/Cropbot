{
  "nbformat": 4,
  "nbformat_minor": 0,
  "metadata": {
    "colab": {
      "provenance": [],
      "include_colab_link": true
    },
    "kernelspec": {
      "name": "python3",
      "display_name": "Python 3"
    },
    "language_info": {
      "name": "python"
    }
  },
  "cells": [
    {
      "cell_type": "markdown",
      "metadata": {
        "id": "view-in-github",
        "colab_type": "text"
      },
      "source": [
        "<a href=\"https://colab.research.google.com/github/SxH2928/Cropbot/blob/main/CropBot.ipynb\" target=\"_parent\"><img src=\"https://colab.research.google.com/assets/colab-badge.svg\" alt=\"Open In Colab\"/></a>"
      ]
    },
    {
      "cell_type": "code",
      "source": [
        "!pip install groq"
      ],
      "metadata": {
        "colab": {
          "base_uri": "https://localhost:8080/"
        },
        "id": "VvqJ-3KHlJCB",
        "outputId": "f7672594-1e1d-4d58-aef3-58dd82842abe"
      },
      "execution_count": null,
      "outputs": [
        {
          "output_type": "stream",
          "name": "stdout",
          "text": [
            "Requirement already satisfied: groq in /usr/local/lib/python3.11/dist-packages (0.15.0)\n",
            "Requirement already satisfied: anyio<5,>=3.5.0 in /usr/local/lib/python3.11/dist-packages (from groq) (3.7.1)\n",
            "Requirement already satisfied: distro<2,>=1.7.0 in /usr/local/lib/python3.11/dist-packages (from groq) (1.9.0)\n",
            "Requirement already satisfied: httpx<1,>=0.23.0 in /usr/local/lib/python3.11/dist-packages (from groq) (0.28.1)\n",
            "Requirement already satisfied: pydantic<3,>=1.9.0 in /usr/local/lib/python3.11/dist-packages (from groq) (2.10.6)\n",
            "Requirement already satisfied: sniffio in /usr/local/lib/python3.11/dist-packages (from groq) (1.3.1)\n",
            "Requirement already satisfied: typing-extensions<5,>=4.10 in /usr/local/lib/python3.11/dist-packages (from groq) (4.12.2)\n",
            "Requirement already satisfied: idna>=2.8 in /usr/local/lib/python3.11/dist-packages (from anyio<5,>=3.5.0->groq) (3.10)\n",
            "Requirement already satisfied: certifi in /usr/local/lib/python3.11/dist-packages (from httpx<1,>=0.23.0->groq) (2024.12.14)\n",
            "Requirement already satisfied: httpcore==1.* in /usr/local/lib/python3.11/dist-packages (from httpx<1,>=0.23.0->groq) (1.0.7)\n",
            "Requirement already satisfied: h11<0.15,>=0.13 in /usr/local/lib/python3.11/dist-packages (from httpcore==1.*->httpx<1,>=0.23.0->groq) (0.14.0)\n",
            "Requirement already satisfied: annotated-types>=0.6.0 in /usr/local/lib/python3.11/dist-packages (from pydantic<3,>=1.9.0->groq) (0.7.0)\n",
            "Requirement already satisfied: pydantic-core==2.27.2 in /usr/local/lib/python3.11/dist-packages (from pydantic<3,>=1.9.0->groq) (2.27.2)\n"
          ]
        }
      ]
    },
    {
      "cell_type": "code",
      "source": [
        "from groq import Groq\n",
        "import os\n",
        "from google.colab import userdata"
      ],
      "metadata": {
        "id": "RjTWVbSikMf0"
      },
      "execution_count": null,
      "outputs": []
    },
    {
      "cell_type": "code",
      "source": [
        "\"I am a wheat farmer in Bazpur, Uttarakhand, and I've noticed unusual yellowing of the lower leaves in my wheat crop, which is in the tillering stage. The soil in my field is slightly alkaline, and recent weather conditions have been cooler and wetter than usual. Could this yellowing be due to nutrient deficiency or a fungal infection, and what steps can I take to address this issue to ensure a healthy yield?\"\n"
      ],
      "metadata": {
        "colab": {
          "base_uri": "https://localhost:8080/",
          "height": 87
        },
        "id": "2EvJ9dazoRjY",
        "outputId": "9ab57f3c-aa0e-4392-86e4-de12b51431ff"
      },
      "execution_count": null,
      "outputs": [
        {
          "output_type": "execute_result",
          "data": {
            "text/plain": [
              "\"I am a wheat farmer in Bazpur, Uttarakhand, and I've noticed unusual yellowing of the lower leaves in my wheat crop, which is in the tillering stage. The soil in my field is slightly alkaline, and recent weather conditions have been cooler and wetter than usual. Could this yellowing be due to nutrient deficiency or a fungal infection, and what steps can I take to address this issue to ensure a healthy yield?\""
            ],
            "application/vnd.google.colaboratory.intrinsic+json": {
              "type": "string"
            }
          },
          "metadata": {},
          "execution_count": 26
        }
      ]
    },
    {
      "cell_type": "code",
      "source": [
        "user_query= input(\"Ask a question about farming! \")\n",
        "field = input(\"What stage is your field in? \")\n",
        "weather = input(\"How have recent weather conditions been? \")\n",
        "history = input(\"Have your crops experienced anything in the past? \")\n",
        "soil = input(\"What soil type do you have? \")"
      ],
      "metadata": {
        "id": "fY2ZVn-IphaE",
        "colab": {
          "base_uri": "https://localhost:8080/"
        },
        "outputId": "e054f239-65ae-411e-fb40-aeef11e45fa8"
      },
      "execution_count": null,
      "outputs": [
        {
          "name": "stdout",
          "output_type": "stream",
          "text": [
            "Ask a question about farming! wheat crops having black spots\n",
            "What stage is your field in? reaping stage\n",
            "How have recent weather conditions been? humid\n",
            "Have your crops experienced anything in the past? none\n",
            "What soil type do you have? alkaline\n"
          ]
        }
      ]
    },
    {
      "cell_type": "code",
      "source": [
        "prompt = f\"\"\"\n",
        "You are a farming assistant who is going to help farmers answer questions about diseases or help them identify actionable solutions to any other farming related problems that they may be facing.\n",
        "\n",
        "Always answer with step by step actionable solutions that the farmer can take.\n",
        "Make the answers as specific and helpful as they can be. Make the answers short and easy to read. Also have a hindi translation of the answer. The hindi should not be too complicated and should contain words only used in normal conversations.\n",
        "\n",
        "Answer the following question - '{user_query}'\n",
        "\n",
        "Some information about the farmer's field is given below -\n",
        "The farmer's field stage is {field}\n",
        "The current weather is {weather}\n",
        "Past diseases affecting the crop are {history}\n",
        "The soil type is {soil}\n",
        "\"\"\"\n",
        "print(prompt)"
      ],
      "metadata": {
        "id": "d_eoamLknYxB",
        "colab": {
          "base_uri": "https://localhost:8080/"
        },
        "outputId": "c4e95d95-2762-4020-8ee0-434779a20df8"
      },
      "execution_count": null,
      "outputs": [
        {
          "output_type": "stream",
          "name": "stdout",
          "text": [
            "\n",
            "You are a farming assistant who is going to help farmers answer questions about diseases or help them identify actionable solutions to any other farming related problems that they may be facing.\n",
            "\n",
            "Always answer with step by step actionable solutions that the farmer can take.\n",
            "Make the answers as specific and helpful as they can be. Make the answers short and easy to read. Also have a hindi translation of the answer. The hindi should not be too complicated and should contain words only used in normal conversations.\n",
            "\n",
            "Answer the following question - 'wheat crops having black spots'\n",
            "\n",
            "Some information about the farmer's field is given below -\n",
            "The farmer's field stage is reaping stage\n",
            "The current weather is humid\n",
            "Past diseases affecting the crop are none\n",
            "The soil type is alkaline\n",
            "\n"
          ]
        }
      ]
    },
    {
      "cell_type": "code",
      "execution_count": null,
      "metadata": {
        "id": "XEeODSkggi31",
        "colab": {
          "base_uri": "https://localhost:8080/"
        },
        "outputId": "998a225f-1a4a-41d4-b76a-5c722dc6a9ce"
      },
      "outputs": [
        {
          "output_type": "stream",
          "name": "stdout",
          "text": [
            "To address black spots on wheat crops at the reaping stage, follow these steps:\n",
            "\n",
            "1. **Inspect the crop**: Check the crop for any signs of fungal infection, such as powdery patches or black spots.\n",
            "2. **Apply fungicide**: Use a recommended fungicide, such as chlorothalonil or propiconazole, to control the fungal infection.\n",
            "3. **Improve air circulation**: Ensure good air circulation in the field to reduce humidity and prevent further infection.\n",
            "4. **Harvest promptly**: Harvest the crop as soon as possible to prevent further damage.\n",
            "\n",
            "Hindi:\n",
            "फसल में काले धब्बे को रोकने के लिए:\n",
            "1. **फसल की जाँच करें**: फसल में फंगल संक्रमण के कोई लक्षण देखें, जैसे कि पाउडरी पैच या काले धब्बे।\n",
            "2. **फंगीसाइड लगाएं**: फंगल संक्रमण को नियंत्रित करने के लिए एक अनुशंसित फंगीसाइड, जैसे कि क्लोरोथालोनिल या प्रोपिकोनाज़ोल, का उपयोग करें।\n",
            "3. **हवा का संचार सुधारें**: खेत में अच्छी हवा का संचार सुनिश्चित करें ताकि आर्द्रता कम हो और आगे का संक्रमण रोका जा सके।\n",
            "4. **फसल की कटाई जल्दी करें**: फसल की कटाई जल्दी करें ताकि आगे की क्षति को रोका जा सके।\n"
          ]
        }
      ],
      "source": [
        "def assistant_reply(prompt):\n",
        "    client = Groq(\n",
        "      api_key= userdata.get('farming_bot'),\n",
        "      )\n",
        "\n",
        "    chat_completion = client.chat.completions.create(\n",
        "        messages=[\n",
        "            {\n",
        "                \"role\": \"user\",\n",
        "                \"content\": prompt,\n",
        "            }\n",
        "        ],\n",
        "        model=\"llama-3.3-70b-versatile\",\n",
        "        stream=False,\n",
        "    )\n",
        "\n",
        "    print(chat_completion.choices[0].message.content)\n",
        "\n",
        "assistant_reply(prompt)"
      ]
    }
  ]
}