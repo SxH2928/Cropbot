{
  "nbformat": 4,
  "nbformat_minor": 0,
  "metadata": {
    "colab": {
      "provenance": [],
      "include_colab_link": true
    },
    "kernelspec": {
      "name": "python3",
      "display_name": "Python 3"
    },
    "language_info": {
      "name": "python"
    }
  },
  "cells": [
    {
      "cell_type": "markdown",
      "metadata": {
        "id": "view-in-github",
        "colab_type": "text"
      },
      "source": [
        "<a href=\"https://colab.research.google.com/github/SxH2928/Cropbot/blob/main/CropBot.ipynb\" target=\"_parent\"><img src=\"https://colab.research.google.com/assets/colab-badge.svg\" alt=\"Open In Colab\"/></a>"
      ]
    },
    {
      "cell_type": "code",
      "source": [
        "!pip install groq"
      ],
      "metadata": {
        "colab": {
          "base_uri": "https://localhost:8080/"
        },
        "id": "VvqJ-3KHlJCB",
        "outputId": "4790587d-62b1-46d4-8fc8-08fcb4f7d305"
      },
      "execution_count": 3,
      "outputs": [
        {
          "output_type": "stream",
          "name": "stdout",
          "text": [
            "Collecting groq\n",
            "  Downloading groq-0.16.0-py3-none-any.whl.metadata (14 kB)\n",
            "Requirement already satisfied: anyio<5,>=3.5.0 in /usr/local/lib/python3.11/dist-packages (from groq) (3.7.1)\n",
            "Requirement already satisfied: distro<2,>=1.7.0 in /usr/local/lib/python3.11/dist-packages (from groq) (1.9.0)\n",
            "Requirement already satisfied: httpx<1,>=0.23.0 in /usr/local/lib/python3.11/dist-packages (from groq) (0.28.1)\n",
            "Requirement already satisfied: pydantic<3,>=1.9.0 in /usr/local/lib/python3.11/dist-packages (from groq) (2.10.6)\n",
            "Requirement already satisfied: sniffio in /usr/local/lib/python3.11/dist-packages (from groq) (1.3.1)\n",
            "Requirement already satisfied: typing-extensions<5,>=4.10 in /usr/local/lib/python3.11/dist-packages (from groq) (4.12.2)\n",
            "Requirement already satisfied: idna>=2.8 in /usr/local/lib/python3.11/dist-packages (from anyio<5,>=3.5.0->groq) (3.10)\n",
            "Requirement already satisfied: certifi in /usr/local/lib/python3.11/dist-packages (from httpx<1,>=0.23.0->groq) (2024.12.14)\n",
            "Requirement already satisfied: httpcore==1.* in /usr/local/lib/python3.11/dist-packages (from httpx<1,>=0.23.0->groq) (1.0.7)\n",
            "Requirement already satisfied: h11<0.15,>=0.13 in /usr/local/lib/python3.11/dist-packages (from httpcore==1.*->httpx<1,>=0.23.0->groq) (0.14.0)\n",
            "Requirement already satisfied: annotated-types>=0.6.0 in /usr/local/lib/python3.11/dist-packages (from pydantic<3,>=1.9.0->groq) (0.7.0)\n",
            "Requirement already satisfied: pydantic-core==2.27.2 in /usr/local/lib/python3.11/dist-packages (from pydantic<3,>=1.9.0->groq) (2.27.2)\n",
            "Downloading groq-0.16.0-py3-none-any.whl (109 kB)\n",
            "\u001b[2K   \u001b[90m━━━━━━━━━━━━━━━━━━━━━━━━━━━━━━━━━━━━━━━━\u001b[0m \u001b[32m109.7/109.7 kB\u001b[0m \u001b[31m4.1 MB/s\u001b[0m eta \u001b[36m0:00:00\u001b[0m\n",
            "\u001b[?25hInstalling collected packages: groq\n",
            "Successfully installed groq-0.16.0\n"
          ]
        }
      ]
    },
    {
      "cell_type": "code",
      "source": [
        "from groq import Groq\n",
        "import os\n",
        "from google.colab import userdata"
      ],
      "metadata": {
        "id": "RjTWVbSikMf0"
      },
      "execution_count": 4,
      "outputs": []
    },
    {
      "cell_type": "code",
      "source": [
        "\"I am a wheat farmer in Bazpur, Uttarakhand, and I've noticed unusual yellowing of the lower leaves in my wheat crop, which is in the tillering stage. The soil in my field is slightly alkaline, and recent weather conditions have been cooler and wetter than usual. Could this yellowing be due to nutrient deficiency or a fungal infection, and what steps can I take to address this issue to ensure a healthy yield?\"\n"
      ],
      "metadata": {
        "colab": {
          "base_uri": "https://localhost:8080/",
          "height": 70
        },
        "id": "2EvJ9dazoRjY",
        "outputId": "960fff8c-595e-4999-d8d0-66142417f2ff"
      },
      "execution_count": 5,
      "outputs": [
        {
          "output_type": "execute_result",
          "data": {
            "text/plain": [
              "\"I am a wheat farmer in Bazpur, Uttarakhand, and I've noticed unusual yellowing of the lower leaves in my wheat crop, which is in the tillering stage. The soil in my field is slightly alkaline, and recent weather conditions have been cooler and wetter than usual. Could this yellowing be due to nutrient deficiency or a fungal infection, and what steps can I take to address this issue to ensure a healthy yield?\""
            ],
            "application/vnd.google.colaboratory.intrinsic+json": {
              "type": "string"
            }
          },
          "metadata": {},
          "execution_count": 5
        }
      ]
    },
    {
      "cell_type": "code",
      "source": [
        "user_query= input(\"Ask a question about farming! \")\n",
        "field = input(\"What stage is your field in? \")\n",
        "weather = input(\"How have recent weather conditions been? \")\n",
        "history = input(\"Have your crops experienced anything in the past? \")\n",
        "soil = input(\"What soil type do you have? \")"
      ],
      "metadata": {
        "id": "fY2ZVn-IphaE"
      },
      "execution_count": null,
      "outputs": []
    },
    {
      "cell_type": "code",
      "source": [
        "prompt = f\"\"\"\n",
        "You are a farming assistant who is going to help farmers answer questions about diseases or help them identify actionable solutions to any other farming related problems that they may be facing.\n",
        "\n",
        "Always answer with step by step actionable solutions that the farmer can take.\n",
        "Make the answers as specific and helpful as they can be. Make the answers short and easy to read. Also have a hindi translation of the answer. The hindi should not be too complicated and should contain words only used in normal conversations.\n",
        "\n",
        "Answer the following question - '{user_query}'\n",
        "\n",
        "Some information about the farmer's field is given below -\n",
        "The farmer's field stage is {field}\n",
        "The current weather is {weather}\n",
        "Past diseases affecting the crop are {history}\n",
        "The soil type is {soil}\n",
        "\"\"\"\n",
        "print(prompt)"
      ],
      "metadata": {
        "id": "d_eoamLknYxB"
      },
      "execution_count": null,
      "outputs": []
    },
    {
      "cell_type": "code",
      "execution_count": null,
      "metadata": {
        "id": "XEeODSkggi31"
      },
      "outputs": [],
      "source": [
        "def assistant_reply(prompt):\n",
        "    client = Groq(\n",
        "      api_key= userdata.get('farming_bot'),\n",
        "      )\n",
        "\n",
        "    chat_completion = client.chat.completions.create(\n",
        "        messages=[\n",
        "            {\n",
        "                \"role\": \"user\",\n",
        "                \"content\": prompt,\n",
        "            }\n",
        "        ],\n",
        "        model=\"llama-3.3-70b-versatile\",\n",
        "        stream=False,\n",
        "    )\n",
        "\n",
        "    print(chat_completion.choices[0].message.content)\n",
        "\n",
        "assistant_reply(prompt)"
      ]
    }
  ]
}